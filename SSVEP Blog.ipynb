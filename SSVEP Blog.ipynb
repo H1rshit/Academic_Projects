{
 "cells": [
  {
   "cell_type": "code",
   "execution_count": 2,
   "metadata": {
    "collapsed": true
   },
   "outputs": [],
   "source": [
    "from numpy import *\n",
    "import math\n",
    "import numpy as np\n",
    "import pandas as pd\n",
    "from IPython.display import display\n",
    "from IPython.display import Image\n",
    "from sklearn.neighbors import KNeighborsClassifier\n",
    "from sklearn.cross_validation import cross_val_score\n",
    "from sklearn.model_selection import cross_val_score\n",
    "import matplotlib.pyplot as plt\n",
    "%matplotlib inline\n",
    "\n"
   ]
  },
  {
   "cell_type": "code",
   "execution_count": 3,
   "metadata": {
    "collapsed": true
   },
   "outputs": [],
   "source": [
    "#recordeddata1=pd.read_csv('Videos/Open_BCI/BCI-openbci/arpit1.csv',names=[1,2,3,4,5,6,7,8,9,10,11,12,13,14,15,16,17,18,19,20,21,22,23,24,25,26,27,28,29,30])\n",
    "recordeddata2=pd.read_csv('Videos/DATA/harshit_O2.csv',names=[1,2,3,4,5,6,7,8,9,10,11,12,13,14,15,16,17,18,19,20,21,22,23,24,25,26,27,28,29,30])\n",
    "#recordeddata3=pd.read_csv('Videos/Open_BCI/BCI-openbci/arpit2.csv',names=[1,2,3,4,5,6,7,8,9,10,11,12,13,14,15,16,17,18,19,20,21,22,23,24,25,26,27,28,29,30])\n",
    "recordeddata4=pd.read_csv('Videos/DATA/harshit_O2_part2.csv',names=[1,2,3,4,5,6,7,8,9,10,11,12,13,14,15,16,17,18,19,20,21,22,23,24,25,26,27,28,29,30])\n"
   ]
  },
  {
   "cell_type": "code",
   "execution_count": 5,
   "metadata": {
    "scrolled": true
   },
   "outputs": [
    {
     "name": "stdout",
     "output_type": "stream",
     "text": [
      "         4         5         6         7         8         9         10\n",
      "0  0.212529  0.366471  0.486507  0.753222  0.531341  0.489468  0.490046\n",
      "1  0.212610  0.358119  0.453232  0.744302  0.529528  0.476646  0.467144\n",
      "2  0.213732  0.348487  0.433585  0.735044  0.528183  0.470076  0.455693\n",
      "         4         5         6         7         8         9         10\n",
      "0  0.355609  0.596031  0.823895  0.707406  0.409009  0.585392  1.109841\n",
      "1  0.356605  0.617118  0.863938  0.723046  0.411778  0.608682  1.102251\n",
      "2  0.354760  0.633551  0.900081  0.730243  0.416526  0.634300  1.091828\n",
      "5.64475987698\n",
      "5.16370217385\n"
     ]
    }
   ],
   "source": [
    "#s1=pd.Series((recordeddata1[7]))\n",
    "#s2=pd.Series((recordeddata1[12]))\n",
    "#s3=pd.iloc((recordeddata2[:,4:15]))\n",
    "#  s4=pd.Series((recordeddata2[8]))\n",
    "#s5=pd.Series((recordeddata3[7]))\n",
    "#s6=pd.Series((recordeddata3[12]))\n",
    "#s7=pd.DataFrame((recordeddata4[:,4:15]))\n",
    "#  s8=pd.Series((recordeddata4[8]))\n",
    "th2=[]\n",
    "th1=[]\n",
    "df1=recordeddata2.loc[:,4:10]\n",
    "df2=recordeddata4.loc[:,4:10]\n",
    "print(df1.head(3))\n",
    "print(df2.head(3))\n",
    "\n",
    "for i in range(0,3000):\n",
    "    p1=df1.loc[i,:].max()\n",
    "    \n",
    "    p2=df2.loc[i,:].max()\n",
    "    v1=(df1.loc[i,:].std())**2\n",
    "    v2=(df2.loc[i,:].std())**2\n",
    "    signal1=((p1/sqrt(2))**2)/v1\n",
    "    signal2=((p2/sqrt(2))**2)/v2\n",
    "    calculated1=10*math.log10(signal1)\n",
    "    calculated2=10*math.log10(signal2)\n",
    "    th1.append(calculated1)\n",
    "    th2.append(calculated2)\n",
    "# print(th1)\n",
    "   \n",
    "\n",
    "s1=pd.Series(th1)\n",
    "s2=pd.Series(th2)\n",
    "print(s1.min())\n",
    "print(s2.min())\n",
    "# s3=pd.Series(var1)\n",
    "# s4=pd.Series(var2)\n",
    "#print(s3)\n",
    "# s1max=df1.max()\n",
    "# s2max=df2.max()\n",
    "# s1mean=df1.mean()\n",
    "# s2mean=df2.mean()\n",
    "# snr1=s1max/s1mean\n",
    "# snr2=s2max/s2mean\n",
    "# print(snr1)"
   ]
  },
  {
   "cell_type": "code",
   "execution_count": 6,
   "metadata": {
    "scrolled": true
   },
   "outputs": [
    {
     "ename": "NameError",
     "evalue": "name 's3' is not defined",
     "output_type": "error",
     "traceback": [
      "\u001b[0;31m---------------------------------------------------------------------------\u001b[0m",
      "\u001b[0;31mNameError\u001b[0m                                 Traceback (most recent call last)",
      "\u001b[0;32m<ipython-input-6-912ac77745c7>\u001b[0m in \u001b[0;36m<module>\u001b[0;34m()\u001b[0m\n\u001b[1;32m      1\u001b[0m \u001b[0;31m#f_1=pd.concat([s1,s2], axis=1)\u001b[0m\u001b[0;34m\u001b[0m\u001b[0;34m\u001b[0m\u001b[0m\n\u001b[0;32m----> 2\u001b[0;31m \u001b[0mf_2\u001b[0m\u001b[0;34m=\u001b[0m\u001b[0mpd\u001b[0m\u001b[0;34m.\u001b[0m\u001b[0mconcat\u001b[0m\u001b[0;34m(\u001b[0m\u001b[0;34m[\u001b[0m\u001b[0ms3\u001b[0m\u001b[0;34m,\u001b[0m\u001b[0ms4\u001b[0m\u001b[0;34m]\u001b[0m\u001b[0;34m,\u001b[0m \u001b[0maxis\u001b[0m\u001b[0;34m=\u001b[0m\u001b[0;36m1\u001b[0m\u001b[0;34m)\u001b[0m\u001b[0;34m\u001b[0m\u001b[0m\n\u001b[0m\u001b[1;32m      3\u001b[0m \u001b[0;31m#f_3=pd.concat([s5,s6], axis=1)\u001b[0m\u001b[0;34m\u001b[0m\u001b[0;34m\u001b[0m\u001b[0m\n\u001b[1;32m      4\u001b[0m \u001b[0mf_4\u001b[0m\u001b[0;34m=\u001b[0m\u001b[0mpd\u001b[0m\u001b[0;34m.\u001b[0m\u001b[0mconcat\u001b[0m\u001b[0;34m(\u001b[0m\u001b[0;34m[\u001b[0m\u001b[0ms7\u001b[0m\u001b[0;34m,\u001b[0m\u001b[0ms8\u001b[0m\u001b[0;34m]\u001b[0m\u001b[0;34m,\u001b[0m \u001b[0maxis\u001b[0m\u001b[0;34m=\u001b[0m\u001b[0;36m1\u001b[0m\u001b[0;34m)\u001b[0m\u001b[0;34m\u001b[0m\u001b[0m\n\u001b[1;32m      5\u001b[0m \u001b[0;31m# print(type(f_1),type(f_2))\u001b[0m\u001b[0;34m\u001b[0m\u001b[0;34m\u001b[0m\u001b[0m\n",
      "\u001b[0;31mNameError\u001b[0m: name 's3' is not defined"
     ]
    }
   ],
   "source": [
    "#f_1=pd.concat([s1,s2], axis=1)\n",
    "f_2=pd.concat([s3,s4], axis=1)\n",
    "#f_3=pd.concat([s5,s6], axis=1)\n",
    "f_4=pd.concat([s7,s8], axis=1)\n",
    "# print(type(f_1),type(f_2))\n",
    "#f7['output' = pd.Series(arange(0), index=f7.index)\n",
    "#print(f12.index)\n",
    "#print(f_2)\n",
    "#f_1.columns=['7Hz','12Hz']\n",
    "f_2.columns=['5Hz','8Hz']\n",
    "#f_3.columns=['7Hz','12Hz']\n",
    "f_4.columns=['5Hz','8Hz']\n",
    "# print(f_2)\n",
    "# print(f_4)\n",
    "\n",
    "#print(f_1['7Hz'],f_2['7Hz'])\n",
    "mean5=(f_2['5Hz']+f_4['5Hz'])/2\n",
    "mean8=(f_2['8Hz']+f_4['8Hz'])/2\n",
    "#print((mean7))\n",
    "# print(mean12)\n",
    "\n",
    "#output\n",
    "# count=0\n",
    "\n",
    "\n",
    "\n",
    "df= pd.concat([mean5,mean8],axis=1)\n",
    "# print(df['7Hz']())\n",
    "k=df.describe()\n",
    "th=k.loc['50%'].mean()\n",
    "# df['boolean']=np.where((df['7Hz']>th) | (df['12Hz']>th),1,'Please focus')\n",
    "df['boolean']=np.where((df['5Hz']>th) | (df['8Hz']>th),np.where(df['5Hz']>df['8Hz'],'5','8'),'Focus')\n",
    "#p=df['boolean'].value_counts('0').index.tolist()\n",
    "n = pd.value_counts(df['boolean'].values, sort=False)\n",
    "#np.where((df['7Hz']>th),pd.value_counts(df['7Hz'].values,sort=False),'LESS')\n",
    "# print(n)\n",
    "print(th)\n",
    "#df\n",
    "df.nsmallest(200,['8Hz'])\n",
    "#df.head(50)\n",
    "\n",
    "# k=df.describe()\n",
    "# k.shape\n",
    "# k.iloc[5,0:2]\n",
    "\n",
    "\n",
    "# for i in boolean:\n",
    "    \n",
    "#     if i==1:\n",
    "#         count=count+1\n",
    "# print(count)\n",
    "\n",
    "\n",
    "#     print(\"Helooooo\")\n",
    "#     count=count+1\n",
    "#     print(count)\n",
    "\n",
    "# print(f7.shape,f12.shape,df.shape)\n",
    "# for val1,val2 in df['O1'],df['O2']:\n",
    "#     if val1\n",
    "#T1 = pd.merge(f7,f12, on=f7.index)\n",
    "#df=pd.merge(f7, f12, left_index=True, right_index=True,axis=0)\n",
    "#orthis is also equivalent->\n",
    "#f7.join(f12)"
   ]
  },
  {
   "cell_type": "code",
   "execution_count": 7,
   "metadata": {},
   "outputs": [
    {
     "ename": "NameError",
     "evalue": "name 'df' is not defined",
     "output_type": "error",
     "traceback": [
      "\u001b[0;31m---------------------------------------------------------------------------\u001b[0m",
      "\u001b[0;31mNameError\u001b[0m                                 Traceback (most recent call last)",
      "\u001b[0;32m<ipython-input-7-d65095634f4e>\u001b[0m in \u001b[0;36m<module>\u001b[0;34m()\u001b[0m\n\u001b[0;32m----> 1\u001b[0;31m \u001b[0mX\u001b[0m\u001b[0;34m=\u001b[0m\u001b[0mdf\u001b[0m\u001b[0;34m.\u001b[0m\u001b[0mvalues\u001b[0m\u001b[0;34m[\u001b[0m\u001b[0;34m:\u001b[0m\u001b[0;34m,\u001b[0m\u001b[0;36m0\u001b[0m\u001b[0;34m:\u001b[0m\u001b[0;36m2\u001b[0m\u001b[0;34m]\u001b[0m\u001b[0;34m\u001b[0m\u001b[0m\n\u001b[0m\u001b[1;32m      2\u001b[0m \u001b[0;31m# print(X.shape)\u001b[0m\u001b[0;34m\u001b[0m\u001b[0;34m\u001b[0m\u001b[0m\n\u001b[1;32m      3\u001b[0m \u001b[0my\u001b[0m\u001b[0;34m=\u001b[0m\u001b[0mdf\u001b[0m\u001b[0;34m[\u001b[0m\u001b[0;34m'boolean'\u001b[0m\u001b[0;34m]\u001b[0m\u001b[0;34m\u001b[0m\u001b[0m\n\u001b[1;32m      4\u001b[0m \u001b[0;34m\u001b[0m\u001b[0m\n\u001b[1;32m      5\u001b[0m \u001b[0;31m# print(y.shape)\u001b[0m\u001b[0;34m\u001b[0m\u001b[0;34m\u001b[0m\u001b[0m\n",
      "\u001b[0;31mNameError\u001b[0m: name 'df' is not defined"
     ]
    }
   ],
   "source": [
    "X=df.values[:,0:2]\n",
    "# print(X.shape)\n",
    "y=df['boolean']\n",
    "\n",
    "# print(y.shape)\n",
    "knn=KNeighborsClassifier(n_neighbors=3)\n",
    "scores = cross_val_score(knn,X,y,cv=10,scoring='accuracy')\n",
    "\n",
    "# print(scores.mean())\n",
    "\n"
   ]
  },
  {
   "cell_type": "code",
   "execution_count": 8,
   "metadata": {
    "collapsed": true
   },
   "outputs": [],
   "source": [
    "# krange=range(1,31)\n",
    "# kscores=[]\n",
    "# for k in krange:\n",
    "#     knn=KNeighborsClassifier(n_neighbors=k)\n",
    "#     scores = cross_val_score(knn,X,y,cv=10,scoring='accuracy')\n",
    "#     t=scores.mean()\n",
    "#     kscores.append(t)\n",
    "#     if(t>0.989):\n",
    "#         print(k)\n",
    "# print(kscores)\n",
    "    "
   ]
  },
  {
   "cell_type": "code",
   "execution_count": 9,
   "metadata": {},
   "outputs": [
    {
     "ename": "NameError",
     "evalue": "name 'knn' is not defined",
     "output_type": "error",
     "traceback": [
      "\u001b[0;31m---------------------------------------------------------------------------\u001b[0m",
      "\u001b[0;31mNameError\u001b[0m                                 Traceback (most recent call last)",
      "\u001b[0;32m<ipython-input-9-6905e5fb4e68>\u001b[0m in \u001b[0;36m<module>\u001b[0;34m()\u001b[0m\n\u001b[1;32m     22\u001b[0m \u001b[0;34m\u001b[0m\u001b[0m\n\u001b[1;32m     23\u001b[0m \u001b[0;34m\u001b[0m\u001b[0m\n\u001b[0;32m---> 24\u001b[0;31m \u001b[0mknn\u001b[0m\u001b[0;34m.\u001b[0m\u001b[0mfit\u001b[0m\u001b[0;34m(\u001b[0m\u001b[0mX\u001b[0m\u001b[0;34m,\u001b[0m\u001b[0my\u001b[0m\u001b[0;34m)\u001b[0m\u001b[0;34m\u001b[0m\u001b[0m\n\u001b[0m\u001b[1;32m     25\u001b[0m \u001b[0;34m\u001b[0m\u001b[0m\n\u001b[1;32m     26\u001b[0m \u001b[0;34m\u001b[0m\u001b[0m\n",
      "\u001b[0;31mNameError\u001b[0m: name 'knn' is not defined"
     ]
    }
   ],
   "source": [
    "# plt.plot(krange,kscores)\n",
    "from IPython.display import clear_output\n",
    "import time\n",
    "# import serial\n",
    "import warnings\n",
    "import socket\n",
    "import os\n",
    "warnings.filterwarnings('ignore')\n",
    "UDP_IP = '127.0.0.1'\n",
    "#print(UDP_IP)\n",
    "UDP_PORT = 22221\n",
    "# print(UDP_PORT)\n",
    "count = 0\n",
    "# port = \"COM5\"\n",
    "# baud = 2400\n",
    "# ser = serial.Serial(port, baud, timeout = 3)\n",
    "\n",
    "sock = socket.socket(socket.AF_INET,socket.SOCK_DGRAM)\n",
    "sock.bind((UDP_IP, UDP_PORT))\n",
    "\n",
    "#fo = open(\"ashmittest.csv\", \"wb\")\n",
    "\n",
    "\n",
    "knn.fit(X,y)\n",
    "\n",
    "\n",
    "while True:\n",
    "    count=count+1\n",
    "#     print(count)\n",
    "    \n",
    "    data = sock.recv(1024)\n",
    "    data_new = data[1:-1]\n",
    "    data_X = data_new.split(',')\n",
    "    data_X = np.array(data_X)\n",
    "    data = [data_X[4],data_X[7]]\n",
    "    clear_output()\n",
    "    print(knn.predict(data))\n",
    "    #print(model.predict(data))\n",
    "\n",
    "sock.close()\n",
    "     "
   ]
  },
  {
   "cell_type": "code",
   "execution_count": null,
   "metadata": {
    "collapsed": true
   },
   "outputs": [],
   "source": []
  },
  {
   "cell_type": "code",
   "execution_count": null,
   "metadata": {
    "collapsed": true
   },
   "outputs": [],
   "source": []
  },
  {
   "cell_type": "code",
   "execution_count": null,
   "metadata": {
    "collapsed": true
   },
   "outputs": [],
   "source": []
  },
  {
   "cell_type": "code",
   "execution_count": null,
   "metadata": {
    "collapsed": true
   },
   "outputs": [],
   "source": []
  }
 ],
 "metadata": {
  "kernelspec": {
   "display_name": "Python 2",
   "language": "python",
   "name": "python2"
  },
  "language_info": {
   "codemirror_mode": {
    "name": "ipython",
    "version": 2
   },
   "file_extension": ".py",
   "mimetype": "text/x-python",
   "name": "python",
   "nbconvert_exporter": "python",
   "pygments_lexer": "ipython2",
   "version": "2.7.12"
  }
 },
 "nbformat": 4,
 "nbformat_minor": 2
}
