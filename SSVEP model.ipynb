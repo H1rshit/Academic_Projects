{
 "cells": [
  {
   "cell_type": "code",
   "execution_count": 2,
   "metadata": {
    "collapsed": true
   },
   "outputs": [],
   "source": [
    "from numpy import *\n",
    "import numpy as np\n",
    "import pandas as pd\n",
    "from IPython.display import display\n",
    "from IPython.display import Image\n",
    "from sklearn.neighbors import KNeighborsClassifier\n",
    "# from sklearn.cross_validation import cross_val_score\n",
    "from sklearn.model_selection import cross_val_score\n",
    "import matplotlib.pyplot as plt\n",
    "%matplotlib inline\n",
    "\n"
   ]
  },
  {
   "cell_type": "code",
   "execution_count": 6,
   "metadata": {},
   "outputs": [],
   "source": [
    "#recordeddata1=pd.read_csv('Downloads/iris.csv')#,names=[1,2,3,4,5,6,7,8,9,10,11,12,13,14,15,16,17,18,19,20,21,22,23,24,25,26,27,28,29,30])\n",
    "recordeddata2=pd.read_csv('Videos/DATA/harshit_O2_part2.csv',names=[1,2,3,4,5,6,7,8,9,10,11,12,13,14,15,16,17,18,19,20,21,22,23,24,25,26,27,28,29,30])"
   ]
  },
  {
   "cell_type": "code",
   "execution_count": 170,
   "metadata": {
    "collapsed": true,
    "scrolled": true
   },
   "outputs": [],
   "source": [
    "s1=pd.Series((recordeddata1[7]))\n",
    "s2=pd.Series((recordeddata1[12]))\n",
    "s3=pd.Series((recordeddata2[7]))\n",
    "s4=pd.Series((recordeddata2[12]))"
   ]
  },
  {
   "cell_type": "code",
   "execution_count": 171,
   "metadata": {},
   "outputs": [
    {
     "data": {
      "text/html": [
       "<div>\n",
       "<style>\n",
       "    .dataframe thead tr:only-child th {\n",
       "        text-align: right;\n",
       "    }\n",
       "\n",
       "    .dataframe thead th {\n",
       "        text-align: left;\n",
       "    }\n",
       "\n",
       "    .dataframe tbody tr th {\n",
       "        vertical-align: top;\n",
       "    }\n",
       "</style>\n",
       "<table border=\"1\" class=\"dataframe\">\n",
       "  <thead>\n",
       "    <tr style=\"text-align: right;\">\n",
       "      <th></th>\n",
       "      <th>7Hz</th>\n",
       "      <th>12Hz</th>\n",
       "      <th>boolean</th>\n",
       "    </tr>\n",
       "  </thead>\n",
       "  <tbody>\n",
       "    <tr>\n",
       "      <th>count</th>\n",
       "      <td>3000.000000</td>\n",
       "      <td>3000.000000</td>\n",
       "      <td>3000.000000</td>\n",
       "    </tr>\n",
       "    <tr>\n",
       "      <th>mean</th>\n",
       "      <td>0.744364</td>\n",
       "      <td>1.048487</td>\n",
       "      <td>0.728667</td>\n",
       "    </tr>\n",
       "    <tr>\n",
       "      <th>std</th>\n",
       "      <td>0.407987</td>\n",
       "      <td>0.540897</td>\n",
       "      <td>0.444722</td>\n",
       "    </tr>\n",
       "    <tr>\n",
       "      <th>min</th>\n",
       "      <td>0.238212</td>\n",
       "      <td>0.307595</td>\n",
       "      <td>0.000000</td>\n",
       "    </tr>\n",
       "    <tr>\n",
       "      <th>25%</th>\n",
       "      <td>0.511678</td>\n",
       "      <td>0.694237</td>\n",
       "      <td>0.000000</td>\n",
       "    </tr>\n",
       "    <tr>\n",
       "      <th>50%</th>\n",
       "      <td>0.669011</td>\n",
       "      <td>0.900460</td>\n",
       "      <td>1.000000</td>\n",
       "    </tr>\n",
       "    <tr>\n",
       "      <th>75%</th>\n",
       "      <td>0.877270</td>\n",
       "      <td>1.215666</td>\n",
       "      <td>1.000000</td>\n",
       "    </tr>\n",
       "    <tr>\n",
       "      <th>max</th>\n",
       "      <td>4.352150</td>\n",
       "      <td>3.690528</td>\n",
       "      <td>1.000000</td>\n",
       "    </tr>\n",
       "  </tbody>\n",
       "</table>\n",
       "</div>"
      ],
      "text/plain": [
       "               7Hz         12Hz      boolean\n",
       "count  3000.000000  3000.000000  3000.000000\n",
       "mean      0.744364     1.048487     0.728667\n",
       "std       0.407987     0.540897     0.444722\n",
       "min       0.238212     0.307595     0.000000\n",
       "25%       0.511678     0.694237     0.000000\n",
       "50%       0.669011     0.900460     1.000000\n",
       "75%       0.877270     1.215666     1.000000\n",
       "max       4.352150     3.690528     1.000000"
      ]
     },
     "execution_count": 171,
     "metadata": {},
     "output_type": "execute_result"
    }
   ],
   "source": [
    "f_1=pd.concat([s1,s2], axis=1)\n",
    "f_2=pd.concat([s3,s4], axis=1)\n",
    "# print(type(f_1),type(f_2))\n",
    "#f7['output' = pd.Series(arange(0), index=f7.index)\n",
    "#print(f12.index)\n",
    "#print(f_2)\n",
    "f_1.columns=['7Hz','12Hz']\n",
    "f_2.columns=['7Hz','12Hz']\n",
    "# print(f_2)\n",
    "# print(f_1)\n",
    "\n",
    "#print(f_1['7Hz'],f_2['7Hz'])\n",
    "mean7=(f_1['7Hz']+f_2['7Hz'])/2\n",
    "mean12=(f_1['12Hz']+f_2['12Hz'])/2\n",
    "# print((mean7))\n",
    "# print(mean12)\n",
    "\n",
    "#output\n",
    "count=0\n",
    "\n",
    "\n",
    "\n",
    "df= pd.concat([mean7,mean12],axis=1)\n",
    "# print(df['7Hz']())\n",
    "\n",
    "\n",
    "df['boolean']=np.where((df['7Hz']<df['12Hz']),1,0)\n",
    "k=df.describe()\n",
    "# k.shape\n",
    "# k.iloc[3,0:2]\n",
    "k\n",
    "# for i in boolean:\n",
    "    \n",
    "#     if i==1:\n",
    "#         count=count+1\n",
    "# print(count)\n",
    "\n",
    "\n",
    "#     print(\"Helooooo\")\n",
    "#     count=count+1\n",
    "#     print(count)\n",
    "\n",
    "# print(f7.shape,f12.shape,df.shape)\n",
    "# for val1,val2 in df['O1'],df['O2']:\n",
    "#     if val1\n",
    "#T1 = pd.merge(f7,f12, on=f7.index)\n",
    "#df=pd.merge(f7, f12, left_index=True, right_index=True,axis=0)\n",
    "#orthis is also equivalent->\n",
    "#f7.join(f12)"
   ]
  },
  {
   "cell_type": "code",
   "execution_count": 94,
   "metadata": {},
   "outputs": [
    {
     "name": "stdout",
     "output_type": "stream",
     "text": [
      "(3000, 2)\n",
      "(3000,)\n",
      "0.984671022271\n"
     ]
    }
   ],
   "source": [
    "X=df.values[:,0:2]\n",
    "print(X.shape)\n",
    "y=df['boolean']\n",
    "#print(y)\n",
    "\n",
    "#print(type(X),type(y))\n",
    "#response=['Left-7Hz','Right-12Hz']\n",
    "#y=np.array([0,1])\n",
    "print(y.shape)\n",
    "knn=KNeighborsClassifier(n_neighbors=3)\n",
    "scores = cross_val_score(knn,X,y,cv=10,scoring='accuracy')\n",
    "# scores=cross_val_score(knn,X,y,cv=10,scoring='accuracy')\n",
    "print(scores.mean())\n",
    "\n"
   ]
  },
  {
   "cell_type": "code",
   "execution_count": null,
   "metadata": {
    "collapsed": true
   },
   "outputs": [],
   "source": []
  },
  {
   "cell_type": "code",
   "execution_count": null,
   "metadata": {
    "collapsed": true
   },
   "outputs": [],
   "source": []
  },
  {
   "cell_type": "code",
   "execution_count": null,
   "metadata": {
    "collapsed": true
   },
   "outputs": [],
   "source": []
  }
 ],
 "metadata": {
  "kernelspec": {
   "display_name": "Python 2",
   "language": "python",
   "name": "python2"
  },
  "language_info": {
   "codemirror_mode": {
    "name": "ipython",
    "version": 2
   },
   "file_extension": ".py",
   "mimetype": "text/x-python",
   "name": "python",
   "nbconvert_exporter": "python",
   "pygments_lexer": "ipython2",
   "version": "2.7.12"
  }
 },
 "nbformat": 4,
 "nbformat_minor": 2
}
